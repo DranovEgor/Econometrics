{
 "cells": [
  {
   "cell_type": "code",
   "execution_count": 5,
   "id": "5dcc6bfd-5cb4-4ece-b9f6-775dbfae459d",
   "metadata": {},
   "outputs": [],
   "source": [
    "import numpy as np\n",
    "import pandas as pd\n",
    "from statsmodels.tsa.vector_ar.vecm import coint_johansen"
   ]
  },
  {
   "cell_type": "code",
   "execution_count": 7,
   "id": "2f750487-9b7c-4c90-83f3-64e320f7303c",
   "metadata": {},
   "outputs": [
    {
     "name": "stdout",
     "output_type": "stream",
     "text": [
      "(67, 5)\n"
     ]
    },
    {
     "data": {
      "text/html": [
       "<div>\n",
       "<style scoped>\n",
       "    .dataframe tbody tr th:only-of-type {\n",
       "        vertical-align: middle;\n",
       "    }\n",
       "\n",
       "    .dataframe tbody tr th {\n",
       "        vertical-align: top;\n",
       "    }\n",
       "\n",
       "    .dataframe thead th {\n",
       "        text-align: right;\n",
       "    }\n",
       "</style>\n",
       "<table border=\"1\" class=\"dataframe\">\n",
       "  <thead>\n",
       "    <tr style=\"text-align: right;\">\n",
       "      <th></th>\n",
       "      <th>Unnamed: 0</th>\n",
       "      <th>date</th>\n",
       "      <th>rate_rus</th>\n",
       "      <th>dollar</th>\n",
       "      <th>rate_us</th>\n",
       "    </tr>\n",
       "  </thead>\n",
       "  <tbody>\n",
       "    <tr>\n",
       "      <th>62</th>\n",
       "      <td>62</td>\n",
       "      <td>2023-03-01</td>\n",
       "      <td>7.5</td>\n",
       "      <td>74.8932</td>\n",
       "      <td>4.625</td>\n",
       "    </tr>\n",
       "    <tr>\n",
       "      <th>63</th>\n",
       "      <td>63</td>\n",
       "      <td>2023-04-01</td>\n",
       "      <td>7.5</td>\n",
       "      <td>77.3233</td>\n",
       "      <td>4.875</td>\n",
       "    </tr>\n",
       "    <tr>\n",
       "      <th>64</th>\n",
       "      <td>64</td>\n",
       "      <td>2023-05-01</td>\n",
       "      <td>7.5</td>\n",
       "      <td>80.5093</td>\n",
       "      <td>4.875</td>\n",
       "    </tr>\n",
       "    <tr>\n",
       "      <th>65</th>\n",
       "      <td>65</td>\n",
       "      <td>2023-06-01</td>\n",
       "      <td>7.5</td>\n",
       "      <td>80.9942</td>\n",
       "      <td>5.125</td>\n",
       "    </tr>\n",
       "    <tr>\n",
       "      <th>66</th>\n",
       "      <td>66</td>\n",
       "      <td>2023-07-01</td>\n",
       "      <td>8.5</td>\n",
       "      <td>88.3844</td>\n",
       "      <td>5.125</td>\n",
       "    </tr>\n",
       "  </tbody>\n",
       "</table>\n",
       "</div>"
      ],
      "text/plain": [
       "    Unnamed: 0        date  rate_rus   dollar  rate_us\n",
       "62          62  2023-03-01       7.5  74.8932    4.625\n",
       "63          63  2023-04-01       7.5  77.3233    4.875\n",
       "64          64  2023-05-01       7.5  80.5093    4.875\n",
       "65          65  2023-06-01       7.5  80.9942    5.125\n",
       "66          66  2023-07-01       8.5  88.3844    5.125"
      ]
     },
     "execution_count": 7,
     "metadata": {},
     "output_type": "execute_result"
    }
   ],
   "source": [
    "df = pd.read_excel('output_clean.xlsx')\n",
    "print(df.shape)  # (123, 8)\n",
    "df.tail()"
   ]
  },
  {
   "cell_type": "code",
   "execution_count": 9,
   "id": "ccc0c9aa-2e2c-4644-aa21-172f0c464ab4",
   "metadata": {},
   "outputs": [
    {
     "data": {
      "text/html": [
       "<div>\n",
       "<style scoped>\n",
       "    .dataframe tbody tr th:only-of-type {\n",
       "        vertical-align: middle;\n",
       "    }\n",
       "\n",
       "    .dataframe tbody tr th {\n",
       "        vertical-align: top;\n",
       "    }\n",
       "\n",
       "    .dataframe thead th {\n",
       "        text-align: right;\n",
       "    }\n",
       "</style>\n",
       "<table border=\"1\" class=\"dataframe\">\n",
       "  <thead>\n",
       "    <tr style=\"text-align: right;\">\n",
       "      <th></th>\n",
       "      <th>rate_rus</th>\n",
       "      <th>dollar</th>\n",
       "      <th>rate_us</th>\n",
       "    </tr>\n",
       "  </thead>\n",
       "  <tbody>\n",
       "    <tr>\n",
       "      <th>0</th>\n",
       "      <td>7.75</td>\n",
       "      <td>57.6002</td>\n",
       "      <td>1.375</td>\n",
       "    </tr>\n",
       "    <tr>\n",
       "      <th>1</th>\n",
       "      <td>7.50</td>\n",
       "      <td>56.1840</td>\n",
       "      <td>1.375</td>\n",
       "    </tr>\n",
       "    <tr>\n",
       "      <th>2</th>\n",
       "      <td>7.25</td>\n",
       "      <td>56.3742</td>\n",
       "      <td>1.375</td>\n",
       "    </tr>\n",
       "    <tr>\n",
       "      <th>3</th>\n",
       "      <td>7.25</td>\n",
       "      <td>57.2649</td>\n",
       "      <td>1.625</td>\n",
       "    </tr>\n",
       "    <tr>\n",
       "      <th>4</th>\n",
       "      <td>7.25</td>\n",
       "      <td>61.9997</td>\n",
       "      <td>1.625</td>\n",
       "    </tr>\n",
       "  </tbody>\n",
       "</table>\n",
       "</div>"
      ],
      "text/plain": [
       "   rate_rus   dollar  rate_us\n",
       "0      7.75  57.6002    1.375\n",
       "1      7.50  56.1840    1.375\n",
       "2      7.25  56.3742    1.375\n",
       "3      7.25  57.2649    1.625\n",
       "4      7.25  61.9997    1.625"
      ]
     },
     "execution_count": 9,
     "metadata": {},
     "output_type": "execute_result"
    }
   ],
   "source": [
    "df = df.drop('Unnamed: 0', axis = 1)\n",
    "df = df.drop('date', axis = 1)\n",
    "df.head()"
   ]
  },
  {
   "cell_type": "code",
   "execution_count": 13,
   "id": "05b7f837-acf4-4edc-ad47-2a47ef2c0e2e",
   "metadata": {},
   "outputs": [
    {
     "name": "stdout",
     "output_type": "stream",
     "text": [
      "Johansen Cointegration Test Results (Testing for Zero Cointegrating Relationships):\n",
      "Trace Statistics: [33.85967832  8.71195713  0.14744951]\n",
      "Critical Values: [[27.0669 29.7961 35.4628]\n",
      " [13.4294 15.4943 19.9349]\n",
      " [ 2.7055  3.8415  6.6349]]\n",
      "\n",
      "--------------------------------------------------\n",
      "\n",
      "Pair 1 (dollar and rate_rus):\n",
      "Trace Statistic: 33.85967832181081\n",
      "Eigen Statistic: 25.147721186842233\n",
      "\n",
      "--------------------------------------------------\n",
      "\n",
      "Pair 2 (rate_us and dollar):\n",
      "Trace Statistic: 8.711957134968575\n",
      "Eigen Statistic: 8.564507627099342\n",
      "\n",
      "--------------------------------------------------\n",
      "\n",
      "Pair 3 (rate_rus and rate_us):\n",
      "Trace Statistic: 0.14744950786923097\n",
      "Eigen Statistic: 0.14744950786923097\n",
      "\n",
      "--------------------------------------------------\n",
      "\n",
      "Cointegration Assessment: Testing for Zero Cointegrating Relationships (Null Hypothesis)\n",
      "\n"
     ]
    }
   ],
   "source": [
    "# Perform the Johansen Cointegration Test with a specified number of zero\n",
    "specified_number = 0  # Testing for zero cointegrating relationships\n",
    "coint_test_result = coint_johansen(df, specified_number, 1)\n",
    "\n",
    "# Extract the trace statistics and eigen statistics\n",
    "trace_stats = coint_test_result.lr1\n",
    "eigen_stats = coint_test_result.lr2\n",
    "\n",
    "# Print the test results\n",
    "print(\"Johansen Cointegration Test Results (Testing for Zero Cointegrating Relationships):\")\n",
    "print(f\"Trace Statistics: {coint_test_result.lr1}\")\n",
    "print(f\"Critical Values: {coint_test_result.cvt}\")\n",
    "\n",
    "# Define stock pairs\n",
    "stock_pairs = [('dollar', 'rate_rus'), ('rate_us', 'dollar'), ('rate_rus', 'rate_us')]\n",
    "\n",
    "# Separate the output sections\n",
    "print(\"\\n\" + \"-\" * 50 + \"\\n\")\n",
    "\n",
    "# Interpret the results for each pair\n",
    "for i, (stock1, stock2) in enumerate(stock_pairs):\n",
    "    trace_statistic = trace_stats[i]\n",
    "    eigen_statistic = eigen_stats[i]\n",
    "    print(f\"Pair {i + 1} ({stock1} and {stock2}):\")\n",
    "    print(f\"Trace Statistic: {trace_statistic}\")\n",
    "    print(f\"Eigen Statistic: {eigen_statistic}\")\n",
    "    print(\"\\n\" + \"-\" * 50 + \"\\n\")\n",
    "\n",
    "# Determine cointegration based on critical values or other criteria\n",
    "# Add your cointegration assessment logic here\n",
    "print(\"Cointegration Assessment: Testing for Zero Cointegrating Relationships (Null Hypothesis)\\n\")"
   ]
  },
  {
   "cell_type": "code",
   "execution_count": 23,
   "id": "ba6e071a-ef4a-4ef0-95a1-2a5d1f9ee5c1",
   "metadata": {},
   "outputs": [
    {
     "name": "stdout",
     "output_type": "stream",
     "text": [
      "Pair 1 (dollar and rate_rus) is cointegrated.\n",
      "Pair 2 (rate_us and dollar) is not cointegrated.\n",
      "Pair 3 (rate_rus and rate_us) is not cointegrated.\n"
     ]
    }
   ],
   "source": [
    "\n",
    "coint_test_result = coint_johansen(df, det_order=1, k_ar_diff=1)\n",
    "\n",
    "# Extract the eigenvalues and critical values\n",
    "tracevalues = coint_test_result.lr1\n",
    "critical_values = coint_test_result.cvt\n",
    "\n",
    "# Interpret the results for each pair\n",
    "for i, (stock1, stock2) in enumerate(stock_pairs):\n",
    "    if (tracevalues[i] > critical_values[:, 1]).all():\n",
    "        print(f\"Pair {i + 1} ({stock1} and {stock2}) is cointegrated.\")\n",
    "    else:\n",
    "        print(f\"Pair {i + 1} ({stock1} and {stock2}) is not cointegrated.\")"
   ]
  },
  {
   "cell_type": "code",
   "execution_count": null,
   "id": "4985b633-a040-41fc-8980-128ab423da0b",
   "metadata": {},
   "outputs": [],
   "source": []
  }
 ],
 "metadata": {
  "kernelspec": {
   "display_name": "Python 3 (ipykernel)",
   "language": "python",
   "name": "python3"
  },
  "language_info": {
   "codemirror_mode": {
    "name": "ipython",
    "version": 3
   },
   "file_extension": ".py",
   "mimetype": "text/x-python",
   "name": "python",
   "nbconvert_exporter": "python",
   "pygments_lexer": "ipython3",
   "version": "3.12.4"
  }
 },
 "nbformat": 4,
 "nbformat_minor": 5
}
